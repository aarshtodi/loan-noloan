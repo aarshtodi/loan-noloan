{
 "cells": [
  {
   "cell_type": "code",
   "execution_count": 1,
   "metadata": {},
   "outputs": [],
   "source": [
    "import pandas as pd\n",
    "import numpy as np\n",
    "\n",
    "import seaborn as sns\n",
    "import matplotlib.pyplot as plt\n",
    "\n",
    "from xgboost import XGBClassifier\n",
    "from sklearn.ensemble import RandomForestClassifier\n",
    "from sklearn.preprocessing import StandardScaler\n",
    "from sklearn.metrics import classification_report, confusion_matrix, accuracy_score, f1_score\n",
    "from sklearn.model_selection import train_test_split, cross_val_score, RandomizedSearchCV\n",
    "\n",
    "import warnings\n",
    "warnings.filterwarnings('ignore')"
   ]
  },
  {
   "cell_type": "code",
   "execution_count": 52,
   "metadata": {},
   "outputs": [],
   "source": [
    "data = pd.read_csv(\"https://raw.githubusercontent.com/dphi-official/Datasets/master/Loan_Data/loan_train.csv\")\n",
    "test = pd.read_csv('https://raw.githubusercontent.com/dphi-official/Datasets/master/Loan_Data/loan_test.csv')"
   ]
  },
  {
   "cell_type": "code",
   "execution_count": 53,
   "metadata": {},
   "outputs": [],
   "source": [
    "data = data.drop(data.columns[0],axis=1)"
   ]
  },
  {
   "cell_type": "code",
   "execution_count": 54,
   "metadata": {},
   "outputs": [
    {
     "data": {
      "text/html": [
       "<div>\n",
       "<style scoped>\n",
       "    .dataframe tbody tr th:only-of-type {\n",
       "        vertical-align: middle;\n",
       "    }\n",
       "\n",
       "    .dataframe tbody tr th {\n",
       "        vertical-align: top;\n",
       "    }\n",
       "\n",
       "    .dataframe thead th {\n",
       "        text-align: right;\n",
       "    }\n",
       "</style>\n",
       "<table border=\"1\" class=\"dataframe\">\n",
       "  <thead>\n",
       "    <tr style=\"text-align: right;\">\n",
       "      <th></th>\n",
       "      <th>Loan_ID</th>\n",
       "      <th>Gender</th>\n",
       "      <th>Married</th>\n",
       "      <th>Dependents</th>\n",
       "      <th>Education</th>\n",
       "      <th>Self_Employed</th>\n",
       "      <th>ApplicantIncome</th>\n",
       "      <th>CoapplicantIncome</th>\n",
       "      <th>LoanAmount</th>\n",
       "      <th>Loan_Amount_Term</th>\n",
       "      <th>Credit_History</th>\n",
       "      <th>Property_Area</th>\n",
       "      <th>Loan_Status</th>\n",
       "    </tr>\n",
       "  </thead>\n",
       "  <tbody>\n",
       "    <tr>\n",
       "      <th>0</th>\n",
       "      <td>LP002305</td>\n",
       "      <td>Female</td>\n",
       "      <td>No</td>\n",
       "      <td>0</td>\n",
       "      <td>Graduate</td>\n",
       "      <td>No</td>\n",
       "      <td>4547</td>\n",
       "      <td>0.0</td>\n",
       "      <td>115.0</td>\n",
       "      <td>360.0</td>\n",
       "      <td>1.0</td>\n",
       "      <td>Semiurban</td>\n",
       "      <td>1</td>\n",
       "    </tr>\n",
       "    <tr>\n",
       "      <th>1</th>\n",
       "      <td>LP001715</td>\n",
       "      <td>Male</td>\n",
       "      <td>Yes</td>\n",
       "      <td>3+</td>\n",
       "      <td>Not Graduate</td>\n",
       "      <td>Yes</td>\n",
       "      <td>5703</td>\n",
       "      <td>0.0</td>\n",
       "      <td>130.0</td>\n",
       "      <td>360.0</td>\n",
       "      <td>1.0</td>\n",
       "      <td>Rural</td>\n",
       "      <td>1</td>\n",
       "    </tr>\n",
       "    <tr>\n",
       "      <th>2</th>\n",
       "      <td>LP002086</td>\n",
       "      <td>Female</td>\n",
       "      <td>Yes</td>\n",
       "      <td>0</td>\n",
       "      <td>Graduate</td>\n",
       "      <td>No</td>\n",
       "      <td>4333</td>\n",
       "      <td>2451.0</td>\n",
       "      <td>110.0</td>\n",
       "      <td>360.0</td>\n",
       "      <td>1.0</td>\n",
       "      <td>Urban</td>\n",
       "      <td>0</td>\n",
       "    </tr>\n",
       "    <tr>\n",
       "      <th>3</th>\n",
       "      <td>LP001136</td>\n",
       "      <td>Male</td>\n",
       "      <td>Yes</td>\n",
       "      <td>0</td>\n",
       "      <td>Not Graduate</td>\n",
       "      <td>Yes</td>\n",
       "      <td>4695</td>\n",
       "      <td>0.0</td>\n",
       "      <td>96.0</td>\n",
       "      <td>NaN</td>\n",
       "      <td>1.0</td>\n",
       "      <td>Urban</td>\n",
       "      <td>1</td>\n",
       "    </tr>\n",
       "    <tr>\n",
       "      <th>4</th>\n",
       "      <td>LP002529</td>\n",
       "      <td>Male</td>\n",
       "      <td>Yes</td>\n",
       "      <td>2</td>\n",
       "      <td>Graduate</td>\n",
       "      <td>No</td>\n",
       "      <td>6700</td>\n",
       "      <td>1750.0</td>\n",
       "      <td>230.0</td>\n",
       "      <td>300.0</td>\n",
       "      <td>1.0</td>\n",
       "      <td>Semiurban</td>\n",
       "      <td>1</td>\n",
       "    </tr>\n",
       "  </tbody>\n",
       "</table>\n",
       "</div>"
      ],
      "text/plain": [
       "    Loan_ID  Gender Married Dependents     Education Self_Employed  \\\n",
       "0  LP002305  Female      No          0      Graduate            No   \n",
       "1  LP001715    Male     Yes         3+  Not Graduate           Yes   \n",
       "2  LP002086  Female     Yes          0      Graduate            No   \n",
       "3  LP001136    Male     Yes          0  Not Graduate           Yes   \n",
       "4  LP002529    Male     Yes          2      Graduate            No   \n",
       "\n",
       "   ApplicantIncome  CoapplicantIncome  LoanAmount  Loan_Amount_Term  \\\n",
       "0             4547                0.0       115.0             360.0   \n",
       "1             5703                0.0       130.0             360.0   \n",
       "2             4333             2451.0       110.0             360.0   \n",
       "3             4695                0.0        96.0               NaN   \n",
       "4             6700             1750.0       230.0             300.0   \n",
       "\n",
       "   Credit_History Property_Area  Loan_Status  \n",
       "0             1.0     Semiurban            1  \n",
       "1             1.0         Rural            1  \n",
       "2             1.0         Urban            0  \n",
       "3             1.0         Urban            1  \n",
       "4             1.0     Semiurban            1  "
      ]
     },
     "execution_count": 54,
     "metadata": {},
     "output_type": "execute_result"
    }
   ],
   "source": [
    "data.head()"
   ]
  },
  {
   "cell_type": "code",
   "execution_count": 55,
   "metadata": {},
   "outputs": [
    {
     "data": {
      "text/html": [
       "<div>\n",
       "<style scoped>\n",
       "    .dataframe tbody tr th:only-of-type {\n",
       "        vertical-align: middle;\n",
       "    }\n",
       "\n",
       "    .dataframe tbody tr th {\n",
       "        vertical-align: top;\n",
       "    }\n",
       "\n",
       "    .dataframe thead th {\n",
       "        text-align: right;\n",
       "    }\n",
       "</style>\n",
       "<table border=\"1\" class=\"dataframe\">\n",
       "  <thead>\n",
       "    <tr style=\"text-align: right;\">\n",
       "      <th></th>\n",
       "      <th>ApplicantIncome</th>\n",
       "      <th>CoapplicantIncome</th>\n",
       "      <th>LoanAmount</th>\n",
       "      <th>Loan_Amount_Term</th>\n",
       "      <th>Credit_History</th>\n",
       "      <th>Loan_Status</th>\n",
       "    </tr>\n",
       "  </thead>\n",
       "  <tbody>\n",
       "    <tr>\n",
       "      <th>count</th>\n",
       "      <td>491.000000</td>\n",
       "      <td>491.000000</td>\n",
       "      <td>475.000000</td>\n",
       "      <td>478.000000</td>\n",
       "      <td>448.000000</td>\n",
       "      <td>491.000000</td>\n",
       "    </tr>\n",
       "    <tr>\n",
       "      <th>mean</th>\n",
       "      <td>5401.189409</td>\n",
       "      <td>1589.730998</td>\n",
       "      <td>145.014737</td>\n",
       "      <td>341.297071</td>\n",
       "      <td>0.848214</td>\n",
       "      <td>0.698574</td>\n",
       "    </tr>\n",
       "    <tr>\n",
       "      <th>std</th>\n",
       "      <td>6419.427177</td>\n",
       "      <td>2919.320624</td>\n",
       "      <td>86.310534</td>\n",
       "      <td>66.964051</td>\n",
       "      <td>0.359214</td>\n",
       "      <td>0.459345</td>\n",
       "    </tr>\n",
       "    <tr>\n",
       "      <th>min</th>\n",
       "      <td>150.000000</td>\n",
       "      <td>0.000000</td>\n",
       "      <td>17.000000</td>\n",
       "      <td>12.000000</td>\n",
       "      <td>0.000000</td>\n",
       "      <td>0.000000</td>\n",
       "    </tr>\n",
       "    <tr>\n",
       "      <th>25%</th>\n",
       "      <td>2923.500000</td>\n",
       "      <td>0.000000</td>\n",
       "      <td>100.000000</td>\n",
       "      <td>360.000000</td>\n",
       "      <td>1.000000</td>\n",
       "      <td>0.000000</td>\n",
       "    </tr>\n",
       "    <tr>\n",
       "      <th>50%</th>\n",
       "      <td>3865.000000</td>\n",
       "      <td>1229.000000</td>\n",
       "      <td>126.000000</td>\n",
       "      <td>360.000000</td>\n",
       "      <td>1.000000</td>\n",
       "      <td>1.000000</td>\n",
       "    </tr>\n",
       "    <tr>\n",
       "      <th>75%</th>\n",
       "      <td>5705.500000</td>\n",
       "      <td>2251.500000</td>\n",
       "      <td>162.000000</td>\n",
       "      <td>360.000000</td>\n",
       "      <td>1.000000</td>\n",
       "      <td>1.000000</td>\n",
       "    </tr>\n",
       "    <tr>\n",
       "      <th>max</th>\n",
       "      <td>81000.000000</td>\n",
       "      <td>41667.000000</td>\n",
       "      <td>700.000000</td>\n",
       "      <td>480.000000</td>\n",
       "      <td>1.000000</td>\n",
       "      <td>1.000000</td>\n",
       "    </tr>\n",
       "  </tbody>\n",
       "</table>\n",
       "</div>"
      ],
      "text/plain": [
       "       ApplicantIncome  CoapplicantIncome  LoanAmount  Loan_Amount_Term  \\\n",
       "count       491.000000         491.000000  475.000000        478.000000   \n",
       "mean       5401.189409        1589.730998  145.014737        341.297071   \n",
       "std        6419.427177        2919.320624   86.310534         66.964051   \n",
       "min         150.000000           0.000000   17.000000         12.000000   \n",
       "25%        2923.500000           0.000000  100.000000        360.000000   \n",
       "50%        3865.000000        1229.000000  126.000000        360.000000   \n",
       "75%        5705.500000        2251.500000  162.000000        360.000000   \n",
       "max       81000.000000       41667.000000  700.000000        480.000000   \n",
       "\n",
       "       Credit_History  Loan_Status  \n",
       "count      448.000000   491.000000  \n",
       "mean         0.848214     0.698574  \n",
       "std          0.359214     0.459345  \n",
       "min          0.000000     0.000000  \n",
       "25%          1.000000     0.000000  \n",
       "50%          1.000000     1.000000  \n",
       "75%          1.000000     1.000000  \n",
       "max          1.000000     1.000000  "
      ]
     },
     "execution_count": 55,
     "metadata": {},
     "output_type": "execute_result"
    }
   ],
   "source": [
    "data.describe()"
   ]
  },
  {
   "cell_type": "code",
   "execution_count": 56,
   "metadata": {},
   "outputs": [
    {
     "data": {
      "text/plain": [
       "(491, 13)"
      ]
     },
     "execution_count": 56,
     "metadata": {},
     "output_type": "execute_result"
    }
   ],
   "source": [
    "data.shape"
   ]
  },
  {
   "cell_type": "code",
   "execution_count": 57,
   "metadata": {},
   "outputs": [
    {
     "data": {
      "text/plain": [
       "Loan_ID              0\n",
       "Gender               3\n",
       "Married              2\n",
       "Dependents           6\n",
       "Education            0\n",
       "Self_Employed        3\n",
       "ApplicantIncome      0\n",
       "CoapplicantIncome    0\n",
       "LoanAmount           6\n",
       "Loan_Amount_Term     1\n",
       "Credit_History       7\n",
       "Property_Area        0\n",
       "dtype: int64"
      ]
     },
     "execution_count": 57,
     "metadata": {},
     "output_type": "execute_result"
    }
   ],
   "source": [
    "test.isnull().sum()"
   ]
  },
  {
   "cell_type": "code",
   "execution_count": 58,
   "metadata": {},
   "outputs": [
    {
     "data": {
      "text/plain": [
       "Loan_ID               0\n",
       "Gender               10\n",
       "Married               1\n",
       "Dependents            9\n",
       "Education             0\n",
       "Self_Employed        29\n",
       "ApplicantIncome       0\n",
       "CoapplicantIncome     0\n",
       "LoanAmount           16\n",
       "Loan_Amount_Term     13\n",
       "Credit_History       43\n",
       "Property_Area         0\n",
       "Loan_Status           0\n",
       "dtype: int64"
      ]
     },
     "execution_count": 58,
     "metadata": {},
     "output_type": "execute_result"
    }
   ],
   "source": [
    "data.isnull().sum()"
   ]
  },
  {
   "cell_type": "code",
   "execution_count": 59,
   "metadata": {},
   "outputs": [
    {
     "data": {
      "text/plain": [
       "Loan_ID              491\n",
       "Gender                 2\n",
       "Married                2\n",
       "Dependents             4\n",
       "Education              2\n",
       "Self_Employed          2\n",
       "ApplicantIncome      408\n",
       "CoapplicantIncome    239\n",
       "LoanAmount           176\n",
       "Loan_Amount_Term      10\n",
       "Credit_History         2\n",
       "Property_Area          3\n",
       "Loan_Status            2\n",
       "dtype: int64"
      ]
     },
     "execution_count": 59,
     "metadata": {},
     "output_type": "execute_result"
    }
   ],
   "source": [
    "data.nunique()"
   ]
  },
  {
   "cell_type": "code",
   "execution_count": 60,
   "metadata": {},
   "outputs": [],
   "source": [
    "data['Dependents'] = data['Dependents'].replace({'3+':4})\n",
    "data['Dependents'] = pd.to_numeric(data['Dependents'])"
   ]
  },
  {
   "cell_type": "code",
   "execution_count": 61,
   "metadata": {},
   "outputs": [],
   "source": [
    "test['Dependents'] = test['Dependents'].replace({'3+':4})\n",
    "test['Dependents'] = pd.to_numeric(test['Dependents'])"
   ]
  },
  {
   "cell_type": "code",
   "execution_count": 62,
   "metadata": {},
   "outputs": [
    {
     "data": {
      "text/plain": [
       "0.0    276\n",
       "1.0     85\n",
       "2.0     78\n",
       "4.0     43\n",
       "Name: Dependents, dtype: int64"
      ]
     },
     "execution_count": 62,
     "metadata": {},
     "output_type": "execute_result"
    }
   ],
   "source": [
    "data.Dependents.value_counts()"
   ]
  },
  {
   "cell_type": "code",
   "execution_count": 63,
   "metadata": {},
   "outputs": [],
   "source": [
    "fill = ['Gender','Married','Credit_History','Dependents','Self_Employed','Loan_Amount_Term']"
   ]
  },
  {
   "cell_type": "code",
   "execution_count": 64,
   "metadata": {},
   "outputs": [],
   "source": [
    "for col in fill:\n",
    "    data[col] = data[col].fillna(data[col].mode()[0])"
   ]
  },
  {
   "cell_type": "code",
   "execution_count": 65,
   "metadata": {},
   "outputs": [],
   "source": [
    "for col in fill:\n",
    "    test[col] = test[col].fillna(data[col].mode()[0])"
   ]
  },
  {
   "cell_type": "code",
   "execution_count": 66,
   "metadata": {},
   "outputs": [],
   "source": [
    "data['LoanAmount'] = data['LoanAmount'].fillna(data.LoanAmount.mean())"
   ]
  },
  {
   "cell_type": "code",
   "execution_count": 67,
   "metadata": {},
   "outputs": [],
   "source": [
    "test['LoanAmount'] = test['LoanAmount'].fillna(data.LoanAmount.mean())"
   ]
  },
  {
   "cell_type": "code",
   "execution_count": 68,
   "metadata": {},
   "outputs": [
    {
     "data": {
      "text/plain": [
       "Loan_ID              0\n",
       "Gender               0\n",
       "Married              0\n",
       "Dependents           0\n",
       "Education            0\n",
       "Self_Employed        0\n",
       "ApplicantIncome      0\n",
       "CoapplicantIncome    0\n",
       "LoanAmount           0\n",
       "Loan_Amount_Term     0\n",
       "Credit_History       0\n",
       "Property_Area        0\n",
       "Loan_Status          0\n",
       "dtype: int64"
      ]
     },
     "execution_count": 68,
     "metadata": {},
     "output_type": "execute_result"
    }
   ],
   "source": [
    "data.isnull().sum()"
   ]
  },
  {
   "cell_type": "code",
   "execution_count": 69,
   "metadata": {},
   "outputs": [
    {
     "data": {
      "text/plain": [
       "Loan_ID              0\n",
       "Gender               0\n",
       "Married              0\n",
       "Dependents           0\n",
       "Education            0\n",
       "Self_Employed        0\n",
       "ApplicantIncome      0\n",
       "CoapplicantIncome    0\n",
       "LoanAmount           0\n",
       "Loan_Amount_Term     0\n",
       "Credit_History       0\n",
       "Property_Area        0\n",
       "dtype: int64"
      ]
     },
     "execution_count": 69,
     "metadata": {},
     "output_type": "execute_result"
    }
   ],
   "source": [
    "test.isnull().sum()"
   ]
  },
  {
   "cell_type": "code",
   "execution_count": 70,
   "metadata": {},
   "outputs": [
    {
     "data": {
      "image/png": "[encoded data removed]",
      "text/plain": [
       "<Figure size 432x288 with 1 Axes>"
      ]
     },
     "metadata": {
      "needs_background": "light"
     },
     "output_type": "display_data"
    }
   ],
   "source": [
    "sns.boxplot(x=data.Loan_Status, y=data.LoanAmount, data=data)\n",
    "plt.show()"
   ]
  },
  {
   "cell_type": "code",
   "execution_count": 71,
   "metadata": {},
   "outputs": [],
   "source": [
    "X = data.drop({'Loan_Status','Loan_ID','Gender'},axis=1)\n",
    "y = data['Loan_Status']"
   ]
  },
  {
   "cell_type": "code",
   "execution_count": 72,
   "metadata": {},
   "outputs": [],
   "source": [
    "test = test.drop({'Loan_ID','Gender'},axis=1)"
   ]
  },
  {
   "cell_type": "code",
   "execution_count": 73,
   "metadata": {},
   "outputs": [],
   "source": [
    "X_train, X_test, y_train, y_test = train_test_split(X, y, test_size=0.15, random_state=1, stratify=y)"
   ]
  },
  {
   "cell_type": "code",
   "execution_count": 74,
   "metadata": {},
   "outputs": [],
   "source": [
    "dummy = pd.get_dummies(X_train[['Married','Credit_History','Self_Employed','Education','Property_Area']])\n",
    "X_train = pd.concat([X_train,dummy],axis=1)"
   ]
  },
  {
   "cell_type": "code",
   "execution_count": 75,
   "metadata": {},
   "outputs": [],
   "source": [
    "dummy = pd.get_dummies(X_test[['Married','Credit_History','Self_Employed','Education','Property_Area']])\n",
    "X_test = pd.concat([X_test,dummy],axis=1)"
   ]
  },
  {
   "cell_type": "code",
   "execution_count": 76,
   "metadata": {},
   "outputs": [],
   "source": [
    "dummy = pd.get_dummies(test[['Married','Credit_History','Self_Employed','Education','Property_Area']])\n",
    "test = pd.concat([test,dummy],axis=1)"
   ]
  },
  {
   "cell_type": "code",
   "execution_count": 81,
   "metadata": {},
   "outputs": [
    {
     "data": {
      "text/plain": [
       "(417, 14)"
      ]
     },
     "execution_count": 81,
     "metadata": {},
     "output_type": "execute_result"
    }
   ],
   "source": [
    "X_train.shape"
   ]
  },
  {
   "cell_type": "code",
   "execution_count": 82,
   "metadata": {},
   "outputs": [
    {
     "data": {
      "text/plain": [
       "(123, 14)"
      ]
     },
     "execution_count": 82,
     "metadata": {},
     "output_type": "execute_result"
    }
   ],
   "source": [
    "test.shape"
   ]
  },
  {
   "cell_type": "code",
   "execution_count": 83,
   "metadata": {},
   "outputs": [
    {
     "data": {
      "text/plain": [
       "(74, 14)"
      ]
     },
     "execution_count": 83,
     "metadata": {},
     "output_type": "execute_result"
    }
   ],
   "source": [
    "X_test.shape"
   ]
  },
  {
   "cell_type": "code",
   "execution_count": 80,
   "metadata": {},
   "outputs": [],
   "source": [
    "X_test = X_test.drop(['Married','Credit_History','Self_Employed','Education','Property_Area'],axis = 1)\n",
    "X_train = X_train.drop(['Married','Credit_History','Self_Employed','Education','Property_Area'],axis = 1)\n",
    "test = test.drop(['Married','Credit_History','Self_Employed','Education','Property_Area'],axis = 1)"
   ]
  },
  {
   "cell_type": "code",
   "execution_count": 84,
   "metadata": {},
   "outputs": [
    {
     "data": {
      "text/plain": [
       "<AxesSubplot:xlabel='Loan_Status', ylabel='count'>"
      ]
     },
     "execution_count": 84,
     "metadata": {},
     "output_type": "execute_result"
    },
    {
     "data": {
      "image/png": "[encoded data removed]",
      "text/plain": [
       "<Figure size 432x288 with 1 Axes>"
      ]
     },
     "metadata": {
      "needs_background": "light"
     },
     "output_type": "display_data"
    }
   ],
   "source": [
    "sns.countplot(y_train)"
   ]
  },
  {
   "cell_type": "code",
   "execution_count": 85,
   "metadata": {},
   "outputs": [],
   "source": [
    "from imblearn.over_sampling import SMOTE\n",
    "sm = SMOTE(random_state = 25, sampling_strategy = 1.0)  "
   ]
  },
  {
   "cell_type": "code",
   "execution_count": 86,
   "metadata": {},
   "outputs": [],
   "source": [
    "X_train, y_train = sm.fit_sample(X_train, y_train)"
   ]
  },
  {
   "cell_type": "code",
   "execution_count": 87,
   "metadata": {},
   "outputs": [
    {
     "data": {
      "text/plain": [
       "RandomForestClassifier(max_depth=5, n_estimators=1000, random_state=1)"
      ]
     },
     "execution_count": 87,
     "metadata": {},
     "output_type": "execute_result"
    }
   ],
   "source": [
    "forest = RandomForestClassifier(random_state=1, n_estimators=1000, max_depth=5)\n",
    "forest.fit(X_train, y_train)"
   ]
  },
  {
   "cell_type": "code",
   "execution_count": 88,
   "metadata": {},
   "outputs": [],
   "source": [
    "y_pred = forest.predict(X_test)"
   ]
  },
  {
   "cell_type": "code",
   "execution_count": 89,
   "metadata": {},
   "outputs": [
    {
     "data": {
      "text/plain": [
       "0.7999999999999999"
      ]
     },
     "execution_count": 89,
     "metadata": {},
     "output_type": "execute_result"
    }
   ],
   "source": [
    "f1_score(y_test, y_pred)"
   ]
  },
  {
   "cell_type": "code",
   "execution_count": 90,
   "metadata": {},
   "outputs": [
    {
     "data": {
      "text/plain": [
       "0.6891891891891891"
      ]
     },
     "execution_count": 90,
     "metadata": {},
     "output_type": "execute_result"
    }
   ],
   "source": [
    "accuracy_score(y_test, y_pred)"
   ]
  },
  {
   "cell_type": "code",
   "execution_count": 91,
   "metadata": {},
   "outputs": [],
   "source": [
    "param_grid = {\n",
    "    'bootstrap': [True,False],\n",
    "    'max_depth': [5,10,15,20],\n",
    "    'n_estimators': [500,800,1000,1200]}"
   ]
  },
  {
   "cell_type": "code",
   "execution_count": 92,
   "metadata": {},
   "outputs": [
    {
     "name": "stdout",
     "output_type": "stream",
     "text": [
      "Fitting 5 folds for each of 10 candidates, totalling 50 fits\n"
     ]
    },
    {
     "name": "stderr",
     "output_type": "stream",
     "text": [
      "[Parallel(n_jobs=-1)]: Using backend LokyBackend with 4 concurrent workers.\n",
      "[Parallel(n_jobs=-1)]: Done  33 tasks      | elapsed:   23.1s\n",
      "[Parallel(n_jobs=-1)]: Done  50 out of  50 | elapsed:   35.2s finished\n"
     ]
    },
    {
     "data": {
      "text/plain": [
       "RandomizedSearchCV(cv=5, estimator=RandomForestClassifier(random_state=1),\n",
       "                   n_jobs=-1,\n",
       "                   param_distributions={'bootstrap': [True, False],\n",
       "                                        'max_depth': [5, 10, 15, 20],\n",
       "                                        'n_estimators': [500, 800, 1000, 1200]},\n",
       "                   verbose=2)"
      ]
     },
     "execution_count": 92,
     "metadata": {},
     "output_type": "execute_result"
    }
   ],
   "source": [
    "rf = RandomForestClassifier(random_state = 1)\n",
    "grid_search = RandomizedSearchCV(estimator = rf, param_distributions = param_grid, cv = 5, n_jobs = -1, verbose = 2)\n",
    "grid_search.fit(X_train, y_train)"
   ]
  },
  {
   "cell_type": "code",
   "execution_count": 93,
   "metadata": {},
   "outputs": [
    {
     "data": {
      "text/plain": [
       "0.8070175438596492"
      ]
     },
     "execution_count": 93,
     "metadata": {},
     "output_type": "execute_result"
    }
   ],
   "source": [
    "f1_score(y_test, grid_search.predict(X_test))"
   ]
  },
  {
   "cell_type": "code",
   "execution_count": 94,
   "metadata": {},
   "outputs": [],
   "source": [
    "from xgboost import XGBClassifier"
   ]
  },
  {
   "cell_type": "code",
   "execution_count": 95,
   "metadata": {},
   "outputs": [],
   "source": [
    "xgb_clf = XGBClassifier(tree_method = \"exact\", predictor = \"cpu_predictor\")"
   ]
  },
  {
   "cell_type": "code",
   "execution_count": 96,
   "metadata": {},
   "outputs": [],
   "source": [
    "parameters = {\"learning_rate\": [0.1, 0.01, 0.001],\n",
    "               \"gamma\" : [0.1, 0.3, 0.5, 1, 1.5],\n",
    "               \"max_depth\": [5, 7, 9, 11],\n",
    "               \"colsample_bytree\": [0.6, 0.8, 1.0],\n",
    "               \"subsample\": [0.4, 0.5, 0.6],\n",
    "               \"reg_alpha\": [0, 0.5, 1],\n",
    "               \"reg_lambda\": [1, 1.5, 2],\n",
    "               \"min_child_weight\": [3, 5, 7],\n",
    "               \"n_estimators\": [500, 750, 1000, 1250]}"
   ]
  },
  {
   "cell_type": "code",
   "execution_count": 97,
   "metadata": {},
   "outputs": [],
   "source": [
    "xgb_rscv = RandomizedSearchCV(xgb_clf, param_distributions = parameters, scoring = \"f1\",\n",
    "                             cv = 7, verbose = 3, random_state = 40 )"
   ]
  },
  {
   "cell_type": "code",
   "execution_count": 98,
   "metadata": {
    "scrolled": true
   },
   "outputs": [
    {
     "name": "stdout",
     "output_type": "stream",
     "text": [
      "Fitting 7 folds for each of 10 candidates, totalling 70 fits\n",
      "[CV] subsample=0.5, reg_lambda=2, reg_alpha=0, n_estimators=750, min_child_weight=7, max_depth=11, learning_rate=0.001, gamma=0.5, colsample_bytree=0.6 \n"
     ]
    },
    {
     "name": "stderr",
     "output_type": "stream",
     "text": [
      "[Parallel(n_jobs=1)]: Using backend SequentialBackend with 1 concurrent workers.\n"
     ]
    },
    {
     "name": "stdout",
     "output_type": "stream",
     "text": [
      "[CV]  subsample=0.5, reg_lambda=2, reg_alpha=0, n_estimators=750, min_child_weight=7, max_depth=11, learning_rate=0.001, gamma=0.5, colsample_bytree=0.6, score=0.661, total=   0.3s\n",
      "[CV] subsample=0.5, reg_lambda=2, reg_alpha=0, n_estimators=750, min_child_weight=7, max_depth=11, learning_rate=0.001, gamma=0.5, colsample_bytree=0.6 \n"
     ]
    },
    {
     "name": "stderr",
     "output_type": "stream",
     "text": [
      "[Parallel(n_jobs=1)]: Done   1 out of   1 | elapsed:    0.3s remaining:    0.0s\n"
     ]
    },
    {
     "name": "stdout",
     "output_type": "stream",
     "text": [
      "[CV]  subsample=0.5, reg_lambda=2, reg_alpha=0, n_estimators=750, min_child_weight=7, max_depth=11, learning_rate=0.001, gamma=0.5, colsample_bytree=0.6, score=0.593, total=   0.3s\n",
      "[CV] subsample=0.5, reg_lambda=2, reg_alpha=0, n_estimators=750, min_child_weight=7, max_depth=11, learning_rate=0.001, gamma=0.5, colsample_bytree=0.6 \n"
     ]
    },
    {
     "name": "stderr",
     "output_type": "stream",
     "text": [
      "[Parallel(n_jobs=1)]: Done   2 out of   2 | elapsed:    0.6s remaining:    0.0s\n"
     ]
    },
    {
     "name": "stdout",
     "output_type": "stream",
     "text": [
      "[CV]  subsample=0.5, reg_lambda=2, reg_alpha=0, n_estimators=750, min_child_weight=7, max_depth=11, learning_rate=0.001, gamma=0.5, colsample_bytree=0.6, score=0.626, total=   0.3s\n",
      "[CV] subsample=0.5, reg_lambda=2, reg_alpha=0, n_estimators=750, min_child_weight=7, max_depth=11, learning_rate=0.001, gamma=0.5, colsample_bytree=0.6 \n",
      "[CV]  subsample=0.5, reg_lambda=2, reg_alpha=0, n_estimators=750, min_child_weight=7, max_depth=11, learning_rate=0.001, gamma=0.5, colsample_bytree=0.6, score=0.769, total=   0.4s\n",
      "[CV] subsample=0.5, reg_lambda=2, reg_alpha=0, n_estimators=750, min_child_weight=7, max_depth=11, learning_rate=0.001, gamma=0.5, colsample_bytree=0.6 \n",
      "[CV]  subsample=0.5, reg_lambda=2, reg_alpha=0, n_estimators=750, min_child_weight=7, max_depth=11, learning_rate=0.001, gamma=0.5, colsample_bytree=0.6, score=0.889, total=   0.4s\n",
      "[CV] subsample=0.5, reg_lambda=2, reg_alpha=0, n_estimators=750, min_child_weight=7, max_depth=11, learning_rate=0.001, gamma=0.5, colsample_bytree=0.6 \n",
      "[CV]  subsample=0.5, reg_lambda=2, reg_alpha=0, n_estimators=750, min_child_weight=7, max_depth=11, learning_rate=0.001, gamma=0.5, colsample_bytree=0.6, score=0.737, total=   0.4s\n",
      "[CV] subsample=0.5, reg_lambda=2, reg_alpha=0, n_estimators=750, min_child_weight=7, max_depth=11, learning_rate=0.001, gamma=0.5, colsample_bytree=0.6 \n",
      "[CV]  subsample=0.5, reg_lambda=2, reg_alpha=0, n_estimators=750, min_child_weight=7, max_depth=11, learning_rate=0.001, gamma=0.5, colsample_bytree=0.6, score=0.754, total=   0.4s\n",
      "[CV] subsample=0.5, reg_lambda=1, reg_alpha=1, n_estimators=500, min_child_weight=3, max_depth=9, learning_rate=0.1, gamma=0.5, colsample_bytree=1.0 \n",
      "[CV]  subsample=0.5, reg_lambda=1, reg_alpha=1, n_estimators=500, min_child_weight=3, max_depth=9, learning_rate=0.1, gamma=0.5, colsample_bytree=1.0, score=0.590, total=   0.4s\n",
      "[CV] subsample=0.5, reg_lambda=1, reg_alpha=1, n_estimators=500, min_child_weight=3, max_depth=9, learning_rate=0.1, gamma=0.5, colsample_bytree=1.0 \n",
      "[CV]  subsample=0.5, reg_lambda=1, reg_alpha=1, n_estimators=500, min_child_weight=3, max_depth=9, learning_rate=0.1, gamma=0.5, colsample_bytree=1.0, score=0.624, total=   0.3s\n",
      "[CV] subsample=0.5, reg_lambda=1, reg_alpha=1, n_estimators=500, min_child_weight=3, max_depth=9, learning_rate=0.1, gamma=0.5, colsample_bytree=1.0 \n",
      "[CV]  subsample=0.5, reg_lambda=1, reg_alpha=1, n_estimators=500, min_child_weight=3, max_depth=9, learning_rate=0.1, gamma=0.5, colsample_bytree=1.0, score=0.621, total=   0.3s\n",
      "[CV] subsample=0.5, reg_lambda=1, reg_alpha=1, n_estimators=500, min_child_weight=3, max_depth=9, learning_rate=0.1, gamma=0.5, colsample_bytree=1.0 \n",
      "[CV]  subsample=0.5, reg_lambda=1, reg_alpha=1, n_estimators=500, min_child_weight=3, max_depth=9, learning_rate=0.1, gamma=0.5, colsample_bytree=1.0, score=0.914, total=   0.3s\n",
      "[CV] subsample=0.5, reg_lambda=1, reg_alpha=1, n_estimators=500, min_child_weight=3, max_depth=9, learning_rate=0.1, gamma=0.5, colsample_bytree=1.0 \n",
      "[CV]  subsample=0.5, reg_lambda=1, reg_alpha=1, n_estimators=500, min_child_weight=3, max_depth=9, learning_rate=0.1, gamma=0.5, colsample_bytree=1.0, score=0.880, total=   0.4s\n",
      "[CV] subsample=0.5, reg_lambda=1, reg_alpha=1, n_estimators=500, min_child_weight=3, max_depth=9, learning_rate=0.1, gamma=0.5, colsample_bytree=1.0 \n",
      "[CV]  subsample=0.5, reg_lambda=1, reg_alpha=1, n_estimators=500, min_child_weight=3, max_depth=9, learning_rate=0.1, gamma=0.5, colsample_bytree=1.0, score=0.812, total=   0.4s\n",
      "[CV] subsample=0.5, reg_lambda=1, reg_alpha=1, n_estimators=500, min_child_weight=3, max_depth=9, learning_rate=0.1, gamma=0.5, colsample_bytree=1.0 \n",
      "[CV]  subsample=0.5, reg_lambda=1, reg_alpha=1, n_estimators=500, min_child_weight=3, max_depth=9, learning_rate=0.1, gamma=0.5, colsample_bytree=1.0, score=0.897, total=   0.4s\n",
      "[CV] subsample=0.5, reg_lambda=1, reg_alpha=0, n_estimators=1000, min_child_weight=7, max_depth=9, learning_rate=0.001, gamma=0.5, colsample_bytree=0.8 \n",
      "[CV]  subsample=0.5, reg_lambda=1, reg_alpha=0, n_estimators=1000, min_child_weight=7, max_depth=9, learning_rate=0.001, gamma=0.5, colsample_bytree=0.8, score=0.655, total=   0.6s\n",
      "[CV] subsample=0.5, reg_lambda=1, reg_alpha=0, n_estimators=1000, min_child_weight=7, max_depth=9, learning_rate=0.001, gamma=0.5, colsample_bytree=0.8 \n",
      "[CV]  subsample=0.5, reg_lambda=1, reg_alpha=0, n_estimators=1000, min_child_weight=7, max_depth=9, learning_rate=0.001, gamma=0.5, colsample_bytree=0.8, score=0.638, total=   0.6s\n",
      "[CV] subsample=0.5, reg_lambda=1, reg_alpha=0, n_estimators=1000, min_child_weight=7, max_depth=9, learning_rate=0.001, gamma=0.5, colsample_bytree=0.8 \n",
      "[CV]  subsample=0.5, reg_lambda=1, reg_alpha=0, n_estimators=1000, min_child_weight=7, max_depth=9, learning_rate=0.001, gamma=0.5, colsample_bytree=0.8, score=0.642, total=   0.5s\n",
      "[CV] subsample=0.5, reg_lambda=1, reg_alpha=0, n_estimators=1000, min_child_weight=7, max_depth=9, learning_rate=0.001, gamma=0.5, colsample_bytree=0.8 \n",
      "[CV]  subsample=0.5, reg_lambda=1, reg_alpha=0, n_estimators=1000, min_child_weight=7, max_depth=9, learning_rate=0.001, gamma=0.5, colsample_bytree=0.8, score=0.795, total=   0.5s\n",
      "[CV] subsample=0.5, reg_lambda=1, reg_alpha=0, n_estimators=1000, min_child_weight=7, max_depth=9, learning_rate=0.001, gamma=0.5, colsample_bytree=0.8 \n",
      "[CV]  subsample=0.5, reg_lambda=1, reg_alpha=0, n_estimators=1000, min_child_weight=7, max_depth=9, learning_rate=0.001, gamma=0.5, colsample_bytree=0.8, score=0.881, total=   0.5s\n",
      "[CV] subsample=0.5, reg_lambda=1, reg_alpha=0, n_estimators=1000, min_child_weight=7, max_depth=9, learning_rate=0.001, gamma=0.5, colsample_bytree=0.8 \n",
      "[CV]  subsample=0.5, reg_lambda=1, reg_alpha=0, n_estimators=1000, min_child_weight=7, max_depth=9, learning_rate=0.001, gamma=0.5, colsample_bytree=0.8, score=0.753, total=   0.5s\n",
      "[CV] subsample=0.5, reg_lambda=1, reg_alpha=0, n_estimators=1000, min_child_weight=7, max_depth=9, learning_rate=0.001, gamma=0.5, colsample_bytree=0.8 \n",
      "[CV]  subsample=0.5, reg_lambda=1, reg_alpha=0, n_estimators=1000, min_child_weight=7, max_depth=9, learning_rate=0.001, gamma=0.5, colsample_bytree=0.8, score=0.754, total=   0.6s\n",
      "[CV] subsample=0.6, reg_lambda=1, reg_alpha=0, n_estimators=750, min_child_weight=7, max_depth=5, learning_rate=0.001, gamma=1, colsample_bytree=0.6 \n",
      "[CV]  subsample=0.6, reg_lambda=1, reg_alpha=0, n_estimators=750, min_child_weight=7, max_depth=5, learning_rate=0.001, gamma=1, colsample_bytree=0.6, score=0.649, total=   0.4s\n",
      "[CV] subsample=0.6, reg_lambda=1, reg_alpha=0, n_estimators=750, min_child_weight=7, max_depth=5, learning_rate=0.001, gamma=1, colsample_bytree=0.6 \n",
      "[CV]  subsample=0.6, reg_lambda=1, reg_alpha=0, n_estimators=750, min_child_weight=7, max_depth=5, learning_rate=0.001, gamma=1, colsample_bytree=0.6, score=0.618, total=   0.5s\n",
      "[CV] subsample=0.6, reg_lambda=1, reg_alpha=0, n_estimators=750, min_child_weight=7, max_depth=5, learning_rate=0.001, gamma=1, colsample_bytree=0.6 \n",
      "[CV]  subsample=0.6, reg_lambda=1, reg_alpha=0, n_estimators=750, min_child_weight=7, max_depth=5, learning_rate=0.001, gamma=1, colsample_bytree=0.6, score=0.612, total=   0.4s\n",
      "[CV] subsample=0.6, reg_lambda=1, reg_alpha=0, n_estimators=750, min_child_weight=7, max_depth=5, learning_rate=0.001, gamma=1, colsample_bytree=0.6 \n",
      "[CV]  subsample=0.6, reg_lambda=1, reg_alpha=0, n_estimators=750, min_child_weight=7, max_depth=5, learning_rate=0.001, gamma=1, colsample_bytree=0.6, score=0.779, total=   0.4s\n",
      "[CV] subsample=0.6, reg_lambda=1, reg_alpha=0, n_estimators=750, min_child_weight=7, max_depth=5, learning_rate=0.001, gamma=1, colsample_bytree=0.6 \n",
      "[CV]  subsample=0.6, reg_lambda=1, reg_alpha=0, n_estimators=750, min_child_weight=7, max_depth=5, learning_rate=0.001, gamma=1, colsample_bytree=0.6, score=0.927, total=   0.4s\n",
      "[CV] subsample=0.6, reg_lambda=1, reg_alpha=0, n_estimators=750, min_child_weight=7, max_depth=5, learning_rate=0.001, gamma=1, colsample_bytree=0.6 \n",
      "[CV]  subsample=0.6, reg_lambda=1, reg_alpha=0, n_estimators=750, min_child_weight=7, max_depth=5, learning_rate=0.001, gamma=1, colsample_bytree=0.6, score=0.720, total=   0.4s\n",
      "[CV] subsample=0.6, reg_lambda=1, reg_alpha=0, n_estimators=750, min_child_weight=7, max_depth=5, learning_rate=0.001, gamma=1, colsample_bytree=0.6 \n"
     ]
    },
    {
     "name": "stdout",
     "output_type": "stream",
     "text": [
      "[CV]  subsample=0.6, reg_lambda=1, reg_alpha=0, n_estimators=750, min_child_weight=7, max_depth=5, learning_rate=0.001, gamma=1, colsample_bytree=0.6, score=0.754, total=   0.4s\n",
      "[CV] subsample=0.5, reg_lambda=1, reg_alpha=1, n_estimators=1250, min_child_weight=3, max_depth=7, learning_rate=0.1, gamma=0.5, colsample_bytree=0.8 \n",
      "[CV]  subsample=0.5, reg_lambda=1, reg_alpha=1, n_estimators=1250, min_child_weight=3, max_depth=7, learning_rate=0.1, gamma=0.5, colsample_bytree=0.8, score=0.604, total=   0.6s\n",
      "[CV] subsample=0.5, reg_lambda=1, reg_alpha=1, n_estimators=1250, min_child_weight=3, max_depth=7, learning_rate=0.1, gamma=0.5, colsample_bytree=0.8 \n",
      "[CV]  subsample=0.5, reg_lambda=1, reg_alpha=1, n_estimators=1250, min_child_weight=3, max_depth=7, learning_rate=0.1, gamma=0.5, colsample_bytree=0.8, score=0.636, total=   0.6s\n",
      "[CV] subsample=0.5, reg_lambda=1, reg_alpha=1, n_estimators=1250, min_child_weight=3, max_depth=7, learning_rate=0.1, gamma=0.5, colsample_bytree=0.8 \n",
      "[CV]  subsample=0.5, reg_lambda=1, reg_alpha=1, n_estimators=1250, min_child_weight=3, max_depth=7, learning_rate=0.1, gamma=0.5, colsample_bytree=0.8, score=0.636, total=   0.6s\n",
      "[CV] subsample=0.5, reg_lambda=1, reg_alpha=1, n_estimators=1250, min_child_weight=3, max_depth=7, learning_rate=0.1, gamma=0.5, colsample_bytree=0.8 \n",
      "[CV]  subsample=0.5, reg_lambda=1, reg_alpha=1, n_estimators=1250, min_child_weight=3, max_depth=7, learning_rate=0.1, gamma=0.5, colsample_bytree=0.8, score=0.872, total=   0.6s\n",
      "[CV] subsample=0.5, reg_lambda=1, reg_alpha=1, n_estimators=1250, min_child_weight=3, max_depth=7, learning_rate=0.1, gamma=0.5, colsample_bytree=0.8 \n",
      "[CV]  subsample=0.5, reg_lambda=1, reg_alpha=1, n_estimators=1250, min_child_weight=3, max_depth=7, learning_rate=0.1, gamma=0.5, colsample_bytree=0.8, score=0.833, total=   0.7s\n",
      "[CV] subsample=0.5, reg_lambda=1, reg_alpha=1, n_estimators=1250, min_child_weight=3, max_depth=7, learning_rate=0.1, gamma=0.5, colsample_bytree=0.8 \n",
      "[CV]  subsample=0.5, reg_lambda=1, reg_alpha=1, n_estimators=1250, min_child_weight=3, max_depth=7, learning_rate=0.1, gamma=0.5, colsample_bytree=0.8, score=0.812, total=   0.7s\n",
      "[CV] subsample=0.5, reg_lambda=1, reg_alpha=1, n_estimators=1250, min_child_weight=3, max_depth=7, learning_rate=0.1, gamma=0.5, colsample_bytree=0.8 \n",
      "[CV]  subsample=0.5, reg_lambda=1, reg_alpha=1, n_estimators=1250, min_child_weight=3, max_depth=7, learning_rate=0.1, gamma=0.5, colsample_bytree=0.8, score=0.895, total=   0.6s\n",
      "[CV] subsample=0.4, reg_lambda=2, reg_alpha=0, n_estimators=1000, min_child_weight=3, max_depth=11, learning_rate=0.01, gamma=1.5, colsample_bytree=1.0 \n",
      "[CV]  subsample=0.4, reg_lambda=2, reg_alpha=0, n_estimators=1000, min_child_weight=3, max_depth=11, learning_rate=0.01, gamma=1.5, colsample_bytree=1.0, score=0.661, total=   0.5s\n",
      "[CV] subsample=0.4, reg_lambda=2, reg_alpha=0, n_estimators=1000, min_child_weight=3, max_depth=11, learning_rate=0.01, gamma=1.5, colsample_bytree=1.0 \n",
      "[CV]  subsample=0.4, reg_lambda=2, reg_alpha=0, n_estimators=1000, min_child_weight=3, max_depth=11, learning_rate=0.01, gamma=1.5, colsample_bytree=1.0, score=0.596, total=   0.5s\n",
      "[CV] subsample=0.4, reg_lambda=2, reg_alpha=0, n_estimators=1000, min_child_weight=3, max_depth=11, learning_rate=0.01, gamma=1.5, colsample_bytree=1.0 \n",
      "[CV]  subsample=0.4, reg_lambda=2, reg_alpha=0, n_estimators=1000, min_child_weight=3, max_depth=11, learning_rate=0.01, gamma=1.5, colsample_bytree=1.0, score=0.621, total=   0.5s\n",
      "[CV] subsample=0.4, reg_lambda=2, reg_alpha=0, n_estimators=1000, min_child_weight=3, max_depth=11, learning_rate=0.01, gamma=1.5, colsample_bytree=1.0 \n",
      "[CV]  subsample=0.4, reg_lambda=2, reg_alpha=0, n_estimators=1000, min_child_weight=3, max_depth=11, learning_rate=0.01, gamma=1.5, colsample_bytree=1.0, score=0.861, total=   0.6s\n",
      "[CV] subsample=0.4, reg_lambda=2, reg_alpha=0, n_estimators=1000, min_child_weight=3, max_depth=11, learning_rate=0.01, gamma=1.5, colsample_bytree=1.0 \n",
      "[CV]  subsample=0.4, reg_lambda=2, reg_alpha=0, n_estimators=1000, min_child_weight=3, max_depth=11, learning_rate=0.01, gamma=1.5, colsample_bytree=1.0, score=0.937, total=   0.7s\n",
      "[CV] subsample=0.4, reg_lambda=2, reg_alpha=0, n_estimators=1000, min_child_weight=3, max_depth=11, learning_rate=0.01, gamma=1.5, colsample_bytree=1.0 \n",
      "[CV]  subsample=0.4, reg_lambda=2, reg_alpha=0, n_estimators=1000, min_child_weight=3, max_depth=11, learning_rate=0.01, gamma=1.5, colsample_bytree=1.0, score=0.817, total=   0.7s\n",
      "[CV] subsample=0.4, reg_lambda=2, reg_alpha=0, n_estimators=1000, min_child_weight=3, max_depth=11, learning_rate=0.01, gamma=1.5, colsample_bytree=1.0 \n",
      "[CV]  subsample=0.4, reg_lambda=2, reg_alpha=0, n_estimators=1000, min_child_weight=3, max_depth=11, learning_rate=0.01, gamma=1.5, colsample_bytree=1.0, score=0.883, total=   0.6s\n",
      "[CV] subsample=0.6, reg_lambda=1, reg_alpha=0.5, n_estimators=750, min_child_weight=5, max_depth=5, learning_rate=0.1, gamma=1.5, colsample_bytree=1.0 \n",
      "[CV]  subsample=0.6, reg_lambda=1, reg_alpha=0.5, n_estimators=750, min_child_weight=5, max_depth=5, learning_rate=0.1, gamma=1.5, colsample_bytree=1.0, score=0.623, total=   0.4s\n",
      "[CV] subsample=0.6, reg_lambda=1, reg_alpha=0.5, n_estimators=750, min_child_weight=5, max_depth=5, learning_rate=0.1, gamma=1.5, colsample_bytree=1.0 \n",
      "[CV]  subsample=0.6, reg_lambda=1, reg_alpha=0.5, n_estimators=750, min_child_weight=5, max_depth=5, learning_rate=0.1, gamma=1.5, colsample_bytree=1.0, score=0.604, total=   0.4s\n",
      "[CV] subsample=0.6, reg_lambda=1, reg_alpha=0.5, n_estimators=750, min_child_weight=5, max_depth=5, learning_rate=0.1, gamma=1.5, colsample_bytree=1.0 \n",
      "[CV]  subsample=0.6, reg_lambda=1, reg_alpha=0.5, n_estimators=750, min_child_weight=5, max_depth=5, learning_rate=0.1, gamma=1.5, colsample_bytree=1.0, score=0.642, total=   0.4s\n",
      "[CV] subsample=0.6, reg_lambda=1, reg_alpha=0.5, n_estimators=750, min_child_weight=5, max_depth=5, learning_rate=0.1, gamma=1.5, colsample_bytree=1.0 \n",
      "[CV]  subsample=0.6, reg_lambda=1, reg_alpha=0.5, n_estimators=750, min_child_weight=5, max_depth=5, learning_rate=0.1, gamma=1.5, colsample_bytree=1.0, score=0.914, total=   0.4s\n",
      "[CV] subsample=0.6, reg_lambda=1, reg_alpha=0.5, n_estimators=750, min_child_weight=5, max_depth=5, learning_rate=0.1, gamma=1.5, colsample_bytree=1.0 \n",
      "[CV]  subsample=0.6, reg_lambda=1, reg_alpha=0.5, n_estimators=750, min_child_weight=5, max_depth=5, learning_rate=0.1, gamma=1.5, colsample_bytree=1.0, score=0.880, total=   0.4s\n",
      "[CV] subsample=0.6, reg_lambda=1, reg_alpha=0.5, n_estimators=750, min_child_weight=5, max_depth=5, learning_rate=0.1, gamma=1.5, colsample_bytree=1.0 \n",
      "[CV]  subsample=0.6, reg_lambda=1, reg_alpha=0.5, n_estimators=750, min_child_weight=5, max_depth=5, learning_rate=0.1, gamma=1.5, colsample_bytree=1.0, score=0.806, total=   0.4s\n",
      "[CV] subsample=0.6, reg_lambda=1, reg_alpha=0.5, n_estimators=750, min_child_weight=5, max_depth=5, learning_rate=0.1, gamma=1.5, colsample_bytree=1.0 \n",
      "[CV]  subsample=0.6, reg_lambda=1, reg_alpha=0.5, n_estimators=750, min_child_weight=5, max_depth=5, learning_rate=0.1, gamma=1.5, colsample_bytree=1.0, score=0.883, total=   0.4s\n",
      "[CV] subsample=0.6, reg_lambda=2, reg_alpha=0.5, n_estimators=500, min_child_weight=7, max_depth=9, learning_rate=0.01, gamma=0.5, colsample_bytree=1.0 \n",
      "[CV]  subsample=0.6, reg_lambda=2, reg_alpha=0.5, n_estimators=500, min_child_weight=7, max_depth=9, learning_rate=0.01, gamma=0.5, colsample_bytree=1.0, score=0.655, total=   0.3s\n",
      "[CV] subsample=0.6, reg_lambda=2, reg_alpha=0.5, n_estimators=500, min_child_weight=7, max_depth=9, learning_rate=0.01, gamma=0.5, colsample_bytree=1.0 \n",
      "[CV]  subsample=0.6, reg_lambda=2, reg_alpha=0.5, n_estimators=500, min_child_weight=7, max_depth=9, learning_rate=0.01, gamma=0.5, colsample_bytree=1.0, score=0.614, total=   0.3s\n",
      "[CV] subsample=0.6, reg_lambda=2, reg_alpha=0.5, n_estimators=500, min_child_weight=7, max_depth=9, learning_rate=0.01, gamma=0.5, colsample_bytree=1.0 \n",
      "[CV]  subsample=0.6, reg_lambda=2, reg_alpha=0.5, n_estimators=500, min_child_weight=7, max_depth=9, learning_rate=0.01, gamma=0.5, colsample_bytree=1.0, score=0.621, total=   0.3s\n",
      "[CV] subsample=0.6, reg_lambda=2, reg_alpha=0.5, n_estimators=500, min_child_weight=7, max_depth=9, learning_rate=0.01, gamma=0.5, colsample_bytree=1.0 \n"
     ]
    },
    {
     "name": "stdout",
     "output_type": "stream",
     "text": [
      "[CV]  subsample=0.6, reg_lambda=2, reg_alpha=0.5, n_estimators=500, min_child_weight=7, max_depth=9, learning_rate=0.01, gamma=0.5, colsample_bytree=1.0, score=0.816, total=   0.3s\n",
      "[CV] subsample=0.6, reg_lambda=2, reg_alpha=0.5, n_estimators=500, min_child_weight=7, max_depth=9, learning_rate=0.01, gamma=0.5, colsample_bytree=1.0 \n",
      "[CV]  subsample=0.6, reg_lambda=2, reg_alpha=0.5, n_estimators=500, min_child_weight=7, max_depth=9, learning_rate=0.01, gamma=0.5, colsample_bytree=1.0, score=0.940, total=   0.4s\n",
      "[CV] subsample=0.6, reg_lambda=2, reg_alpha=0.5, n_estimators=500, min_child_weight=7, max_depth=9, learning_rate=0.01, gamma=0.5, colsample_bytree=1.0 \n",
      "[CV]  subsample=0.6, reg_lambda=2, reg_alpha=0.5, n_estimators=500, min_child_weight=7, max_depth=9, learning_rate=0.01, gamma=0.5, colsample_bytree=1.0, score=0.763, total=   0.3s\n",
      "[CV] subsample=0.6, reg_lambda=2, reg_alpha=0.5, n_estimators=500, min_child_weight=7, max_depth=9, learning_rate=0.01, gamma=0.5, colsample_bytree=1.0 \n",
      "[CV]  subsample=0.6, reg_lambda=2, reg_alpha=0.5, n_estimators=500, min_child_weight=7, max_depth=9, learning_rate=0.01, gamma=0.5, colsample_bytree=1.0, score=0.806, total=   0.3s\n",
      "[CV] subsample=0.4, reg_lambda=1.5, reg_alpha=0, n_estimators=1250, min_child_weight=5, max_depth=11, learning_rate=0.001, gamma=0.5, colsample_bytree=0.6 \n",
      "[CV]  subsample=0.4, reg_lambda=1.5, reg_alpha=0, n_estimators=1250, min_child_weight=5, max_depth=11, learning_rate=0.001, gamma=0.5, colsample_bytree=0.6, score=0.667, total=   0.6s\n",
      "[CV] subsample=0.4, reg_lambda=1.5, reg_alpha=0, n_estimators=1250, min_child_weight=5, max_depth=11, learning_rate=0.001, gamma=0.5, colsample_bytree=0.6 \n",
      "[CV]  subsample=0.4, reg_lambda=1.5, reg_alpha=0, n_estimators=1250, min_child_weight=5, max_depth=11, learning_rate=0.001, gamma=0.5, colsample_bytree=0.6, score=0.618, total=   0.6s\n",
      "[CV] subsample=0.4, reg_lambda=1.5, reg_alpha=0, n_estimators=1250, min_child_weight=5, max_depth=11, learning_rate=0.001, gamma=0.5, colsample_bytree=0.6 \n",
      "[CV]  subsample=0.4, reg_lambda=1.5, reg_alpha=0, n_estimators=1250, min_child_weight=5, max_depth=11, learning_rate=0.001, gamma=0.5, colsample_bytree=0.6, score=0.634, total=   0.6s\n",
      "[CV] subsample=0.4, reg_lambda=1.5, reg_alpha=0, n_estimators=1250, min_child_weight=5, max_depth=11, learning_rate=0.001, gamma=0.5, colsample_bytree=0.6 \n",
      "[CV]  subsample=0.4, reg_lambda=1.5, reg_alpha=0, n_estimators=1250, min_child_weight=5, max_depth=11, learning_rate=0.001, gamma=0.5, colsample_bytree=0.6, score=0.821, total=   0.6s\n",
      "[CV] subsample=0.4, reg_lambda=1.5, reg_alpha=0, n_estimators=1250, min_child_weight=5, max_depth=11, learning_rate=0.001, gamma=0.5, colsample_bytree=0.6 \n",
      "[CV]  subsample=0.4, reg_lambda=1.5, reg_alpha=0, n_estimators=1250, min_child_weight=5, max_depth=11, learning_rate=0.001, gamma=0.5, colsample_bytree=0.6, score=0.914, total=   0.6s\n",
      "[CV] subsample=0.4, reg_lambda=1.5, reg_alpha=0, n_estimators=1250, min_child_weight=5, max_depth=11, learning_rate=0.001, gamma=0.5, colsample_bytree=0.6 \n",
      "[CV]  subsample=0.4, reg_lambda=1.5, reg_alpha=0, n_estimators=1250, min_child_weight=5, max_depth=11, learning_rate=0.001, gamma=0.5, colsample_bytree=0.6, score=0.720, total=   0.6s\n",
      "[CV] subsample=0.4, reg_lambda=1.5, reg_alpha=0, n_estimators=1250, min_child_weight=5, max_depth=11, learning_rate=0.001, gamma=0.5, colsample_bytree=0.6 \n",
      "[CV]  subsample=0.4, reg_lambda=1.5, reg_alpha=0, n_estimators=1250, min_child_weight=5, max_depth=11, learning_rate=0.001, gamma=0.5, colsample_bytree=0.6, score=0.735, total=   0.6s\n",
      "[CV] subsample=0.5, reg_lambda=1, reg_alpha=1, n_estimators=500, min_child_weight=5, max_depth=9, learning_rate=0.01, gamma=0.3, colsample_bytree=0.6 \n",
      "[CV]  subsample=0.5, reg_lambda=1, reg_alpha=1, n_estimators=500, min_child_weight=5, max_depth=9, learning_rate=0.01, gamma=0.3, colsample_bytree=0.6, score=0.649, total=   0.4s\n",
      "[CV] subsample=0.5, reg_lambda=1, reg_alpha=1, n_estimators=500, min_child_weight=5, max_depth=9, learning_rate=0.01, gamma=0.3, colsample_bytree=0.6 \n",
      "[CV]  subsample=0.5, reg_lambda=1, reg_alpha=1, n_estimators=500, min_child_weight=5, max_depth=9, learning_rate=0.01, gamma=0.3, colsample_bytree=0.6, score=0.619, total=   0.3s\n",
      "[CV] subsample=0.5, reg_lambda=1, reg_alpha=1, n_estimators=500, min_child_weight=5, max_depth=9, learning_rate=0.01, gamma=0.3, colsample_bytree=0.6 \n",
      "[CV]  subsample=0.5, reg_lambda=1, reg_alpha=1, n_estimators=500, min_child_weight=5, max_depth=9, learning_rate=0.01, gamma=0.3, colsample_bytree=0.6, score=0.634, total=   0.3s\n",
      "[CV] subsample=0.5, reg_lambda=1, reg_alpha=1, n_estimators=500, min_child_weight=5, max_depth=9, learning_rate=0.01, gamma=0.3, colsample_bytree=0.6 \n",
      "[CV]  subsample=0.5, reg_lambda=1, reg_alpha=1, n_estimators=500, min_child_weight=5, max_depth=9, learning_rate=0.01, gamma=0.3, colsample_bytree=0.6, score=0.846, total=   0.3s\n",
      "[CV] subsample=0.5, reg_lambda=1, reg_alpha=1, n_estimators=500, min_child_weight=5, max_depth=9, learning_rate=0.01, gamma=0.3, colsample_bytree=0.6 \n",
      "[CV]  subsample=0.5, reg_lambda=1, reg_alpha=1, n_estimators=500, min_child_weight=5, max_depth=9, learning_rate=0.01, gamma=0.3, colsample_bytree=0.6, score=0.927, total=   0.3s\n",
      "[CV] subsample=0.5, reg_lambda=1, reg_alpha=1, n_estimators=500, min_child_weight=5, max_depth=9, learning_rate=0.01, gamma=0.3, colsample_bytree=0.6 \n",
      "[CV]  subsample=0.5, reg_lambda=1, reg_alpha=1, n_estimators=500, min_child_weight=5, max_depth=9, learning_rate=0.01, gamma=0.3, colsample_bytree=0.6, score=0.773, total=   0.2s\n",
      "[CV] subsample=0.5, reg_lambda=1, reg_alpha=1, n_estimators=500, min_child_weight=5, max_depth=9, learning_rate=0.01, gamma=0.3, colsample_bytree=0.6 \n",
      "[CV]  subsample=0.5, reg_lambda=1, reg_alpha=1, n_estimators=500, min_child_weight=5, max_depth=9, learning_rate=0.01, gamma=0.3, colsample_bytree=0.6, score=0.806, total=   0.3s\n"
     ]
    },
    {
     "name": "stderr",
     "output_type": "stream",
     "text": [
      "[Parallel(n_jobs=1)]: Done  70 out of  70 | elapsed:   31.2s finished\n"
     ]
    }
   ],
   "source": [
    "model_xgboost = xgb_rscv.fit(X_train, y_train)"
   ]
  },
  {
   "cell_type": "code",
   "execution_count": 99,
   "metadata": {},
   "outputs": [
    {
     "data": {
      "text/plain": [
       "XGBClassifier(base_score=0.5, booster='gbtree', colsample_bylevel=1,\n",
       "              colsample_bynode=1, colsample_bytree=1.0, gamma=1.5, gpu_id=-1,\n",
       "              importance_type='gain', interaction_constraints='',\n",
       "              learning_rate=0.01, max_delta_step=0, max_depth=11,\n",
       "              min_child_weight=3, missing=nan, monotone_constraints='()',\n",
       "              n_estimators=1000, n_jobs=0, num_parallel_tree=1, random_state=0,\n",
       "              reg_alpha=0, reg_lambda=2, scale_pos_weight=1, subsample=0.4,\n",
       "              tree_method='exact', validate_parameters=1, verbosity=None)"
      ]
     },
     "execution_count": 99,
     "metadata": {},
     "output_type": "execute_result"
    }
   ],
   "source": [
    "xgb_final = XGBClassifier(random_state=0, \n",
    "                          n_estimators=xgb_rscv.best_params_['n_estimators'], \n",
    "                          max_depth=xgb_rscv.best_params_['max_depth'],\n",
    "                          learning_rate=xgb_rscv.best_params_['learning_rate'],\n",
    "                          gamma=xgb_rscv.best_params_['gamma'],\n",
    "                          colsample_bytree=xgb_rscv.best_params_['colsample_bytree'],\n",
    "                          subsample=xgb_rscv.best_params_['subsample'],\n",
    "                          reg_alpha=xgb_rscv.best_params_['reg_alpha'],\n",
    "                          reg_lambda=xgb_rscv.best_params_['reg_lambda'],\n",
    "                          min_child_weight=xgb_rscv.best_params_['min_child_weight'])\n",
    "xgb_final.fit(X_train, y_train)"
   ]
  },
  {
   "cell_type": "code",
   "execution_count": 100,
   "metadata": {},
   "outputs": [
    {
     "data": {
      "text/plain": [
       "0.8141592920353982"
      ]
     },
     "execution_count": 100,
     "metadata": {},
     "output_type": "execute_result"
    }
   ],
   "source": [
    "f1_score(y_test, xgb_final.predict(X_test))"
   ]
  },
  {
   "cell_type": "code",
   "execution_count": 101,
   "metadata": {},
   "outputs": [
    {
     "data": {
      "text/plain": [
       "0.7162162162162162"
      ]
     },
     "execution_count": 101,
     "metadata": {},
     "output_type": "execute_result"
    }
   ],
   "source": [
    "accuracy_score(y_test, xgb_final.predict(X_test))"
   ]
  },
  {
   "cell_type": "code",
   "execution_count": 106,
   "metadata": {},
   "outputs": [],
   "source": [
    "X_use = pd.concat([X_train,X_test])\n",
    "y_use = pd.concat([y_train,y_test])"
   ]
  },
  {
   "cell_type": "code",
   "execution_count": 107,
   "metadata": {},
   "outputs": [
    {
     "data": {
      "text/plain": [
       "XGBClassifier(base_score=0.5, booster='gbtree', colsample_bylevel=1,\n",
       "              colsample_bynode=1, colsample_bytree=1.0, gamma=1.5, gpu_id=-1,\n",
       "              importance_type='gain', interaction_constraints='',\n",
       "              learning_rate=0.01, max_delta_step=0, max_depth=11,\n",
       "              min_child_weight=3, missing=nan, monotone_constraints='()',\n",
       "              n_estimators=1000, n_jobs=0, num_parallel_tree=1, random_state=0,\n",
       "              reg_alpha=0, reg_lambda=2, scale_pos_weight=1, subsample=0.4,\n",
       "              tree_method='exact', validate_parameters=1, verbosity=None)"
      ]
     },
     "execution_count": 107,
     "metadata": {},
     "output_type": "execute_result"
    }
   ],
   "source": [
    "xgb_final.fit(X_use,y_use)"
   ]
  },
  {
   "cell_type": "code",
   "execution_count": 109,
   "metadata": {},
   "outputs": [],
   "source": [
    "df = pd.DataFrame({'prediction':xgb_final.predict(test)})"
   ]
  },
  {
   "cell_type": "code",
   "execution_count": 110,
   "metadata": {},
   "outputs": [],
   "source": [
    "df.to_csv('Dphi541.csv',index=False)"
   ]
  },
  {
   "cell_type": "code",
   "execution_count": 111,
   "metadata": {},
   "outputs": [
    {
     "data": {
      "text/plain": [
       "['loan.pkl']"
      ]
     },
     "execution_count": 111,
     "metadata": {},
     "output_type": "execute_result"
    }
   ],
   "source": [
    "import joblib\n",
    "joblib.dump(XGA, \"loan.pkl\")"
   ]
  },
  {
   "cell_type": "code",
   "execution_count": 112,
   "metadata": {},
   "outputs": [
    {
     "data": {
      "text/html": [
       "<div>\n",
       "<style scoped>\n",
       "    .dataframe tbody tr th:only-of-type {\n",
       "        vertical-align: middle;\n",
       "    }\n",
       "\n",
       "    .dataframe tbody tr th {\n",
       "        vertical-align: top;\n",
       "    }\n",
       "\n",
       "    .dataframe thead th {\n",
       "        text-align: right;\n",
       "    }\n",
       "</style>\n",
       "<table border=\"1\" class=\"dataframe\">\n",
       "  <thead>\n",
       "    <tr style=\"text-align: right;\">\n",
       "      <th></th>\n",
       "      <th>Dependents</th>\n",
       "      <th>ApplicantIncome</th>\n",
       "      <th>CoapplicantIncome</th>\n",
       "      <th>LoanAmount</th>\n",
       "      <th>Loan_Amount_Term</th>\n",
       "      <th>Married_No</th>\n",
       "      <th>Married_Yes</th>\n",
       "      <th>Self_Employed_No</th>\n",
       "      <th>Self_Employed_Yes</th>\n",
       "      <th>Education_Graduate</th>\n",
       "      <th>Education_Not Graduate</th>\n",
       "      <th>Property_Area_Rural</th>\n",
       "      <th>Property_Area_Semiurban</th>\n",
       "      <th>Property_Area_Urban</th>\n",
       "    </tr>\n",
       "  </thead>\n",
       "  <tbody>\n",
       "    <tr>\n",
       "      <th>0</th>\n",
       "      <td>0.0</td>\n",
       "      <td>2920</td>\n",
       "      <td>16.120001</td>\n",
       "      <td>87.0</td>\n",
       "      <td>360.0</td>\n",
       "      <td>0</td>\n",
       "      <td>1</td>\n",
       "      <td>1</td>\n",
       "      <td>0</td>\n",
       "      <td>1</td>\n",
       "      <td>0</td>\n",
       "      <td>1</td>\n",
       "      <td>0</td>\n",
       "      <td>0</td>\n",
       "    </tr>\n",
       "    <tr>\n",
       "      <th>1</th>\n",
       "      <td>2.0</td>\n",
       "      <td>3316</td>\n",
       "      <td>3500.000000</td>\n",
       "      <td>88.0</td>\n",
       "      <td>360.0</td>\n",
       "      <td>0</td>\n",
       "      <td>1</td>\n",
       "      <td>0</td>\n",
       "      <td>1</td>\n",
       "      <td>1</td>\n",
       "      <td>0</td>\n",
       "      <td>0</td>\n",
       "      <td>0</td>\n",
       "      <td>1</td>\n",
       "    </tr>\n",
       "    <tr>\n",
       "      <th>2</th>\n",
       "      <td>0.0</td>\n",
       "      <td>2987</td>\n",
       "      <td>0.000000</td>\n",
       "      <td>88.0</td>\n",
       "      <td>360.0</td>\n",
       "      <td>1</td>\n",
       "      <td>0</td>\n",
       "      <td>1</td>\n",
       "      <td>0</td>\n",
       "      <td>1</td>\n",
       "      <td>0</td>\n",
       "      <td>0</td>\n",
       "      <td>1</td>\n",
       "      <td>0</td>\n",
       "    </tr>\n",
       "    <tr>\n",
       "      <th>3</th>\n",
       "      <td>1.0</td>\n",
       "      <td>3652</td>\n",
       "      <td>0.000000</td>\n",
       "      <td>95.0</td>\n",
       "      <td>360.0</td>\n",
       "      <td>1</td>\n",
       "      <td>0</td>\n",
       "      <td>1</td>\n",
       "      <td>0</td>\n",
       "      <td>1</td>\n",
       "      <td>0</td>\n",
       "      <td>0</td>\n",
       "      <td>1</td>\n",
       "      <td>0</td>\n",
       "    </tr>\n",
       "    <tr>\n",
       "      <th>4</th>\n",
       "      <td>0.0</td>\n",
       "      <td>5417</td>\n",
       "      <td>0.000000</td>\n",
       "      <td>143.0</td>\n",
       "      <td>480.0</td>\n",
       "      <td>1</td>\n",
       "      <td>0</td>\n",
       "      <td>1</td>\n",
       "      <td>0</td>\n",
       "      <td>1</td>\n",
       "      <td>0</td>\n",
       "      <td>0</td>\n",
       "      <td>0</td>\n",
       "      <td>1</td>\n",
       "    </tr>\n",
       "  </tbody>\n",
       "</table>\n",
       "</div>"
      ],
      "text/plain": [
       "   Dependents  ApplicantIncome  CoapplicantIncome  LoanAmount  \\\n",
       "0         0.0             2920          16.120001        87.0   \n",
       "1         2.0             3316        3500.000000        88.0   \n",
       "2         0.0             2987           0.000000        88.0   \n",
       "3         1.0             3652           0.000000        95.0   \n",
       "4         0.0             5417           0.000000       143.0   \n",
       "\n",
       "   Loan_Amount_Term  Married_No  Married_Yes  Self_Employed_No  \\\n",
       "0             360.0           0            1                 1   \n",
       "1             360.0           0            1                 0   \n",
       "2             360.0           1            0                 1   \n",
       "3             360.0           1            0                 1   \n",
       "4             480.0           1            0                 1   \n",
       "\n",
       "   Self_Employed_Yes  Education_Graduate  Education_Not Graduate  \\\n",
       "0                  0                   1                       0   \n",
       "1                  1                   1                       0   \n",
       "2                  0                   1                       0   \n",
       "3                  0                   1                       0   \n",
       "4                  0                   1                       0   \n",
       "\n",
       "   Property_Area_Rural  Property_Area_Semiurban  Property_Area_Urban  \n",
       "0                    1                        0                    0  \n",
       "1                    0                        0                    1  \n",
       "2                    0                        1                    0  \n",
       "3                    0                        1                    0  \n",
       "4                    0                        0                    1  "
      ]
     },
     "execution_count": 112,
     "metadata": {},
     "output_type": "execute_result"
    }
   ],
   "source": [
    "X_use.head()"
   ]
  },
  {
   "cell_type": "code",
   "execution_count": null,
   "metadata": {},
   "outputs": [],
   "source": [
    "De"
   ]
  }
 ],
 "metadata": {
  "kernelspec": {
   "display_name": "Python 3",
   "language": "python",
   "name": "python3"
  },
  "language_info": {
   "codemirror_mode": {
    "name": "ipython",
    "version": 3
   },
   "file_extension": ".py",
   "mimetype": "text/x-python",
   "name": "python",
   "nbconvert_exporter": "python",
   "pygments_lexer": "ipython3",
   "version": "3.7.3"
  }
 },
 "nbformat": 4,
 "nbformat_minor": 4
}
